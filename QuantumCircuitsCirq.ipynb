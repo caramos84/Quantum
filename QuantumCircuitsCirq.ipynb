{
  "nbformat": 4,
  "nbformat_minor": 0,
  "metadata": {
    "colab": {
      "provenance": [],
      "authorship_tag": "ABX9TyM0RZP6ieVXm0wytWNxxVyo",
      "include_colab_link": true
    },
    "kernelspec": {
      "name": "python3",
      "display_name": "Python 3"
    },
    "language_info": {
      "name": "python"
    }
  },
  "cells": [
    {
      "cell_type": "markdown",
      "metadata": {
        "id": "view-in-github",
        "colab_type": "text"
      },
      "source": [
        "<a href=\"https://colab.research.google.com/github/caramos84/Quantum/blob/main/QuantumCircuitsCirq.ipynb\" target=\"_parent\"><img src=\"https://colab.research.google.com/assets/colab-badge.svg\" alt=\"Open In Colab\"/></a>"
      ]
    },
    {
      "cell_type": "code",
      "execution_count": 3,
      "metadata": {
        "id": "foU2I78UiQSm"
      },
      "outputs": [],
      "source": [
        "try:\n",
        "    import cirq\n",
        "except ImportError:\n",
        "    print(\"installing cirq...\")\n",
        "    !pip install --quiet cirq\n",
        "    import cirq\n",
        "\n",
        "    print(\"installed cirq.\")"
      ]
    },
    {
      "cell_type": "code",
      "source": [
        "qubits = cirq.GridQubit.square(3)\n",
        "\n",
        "print(qubits[0])\n",
        "print(qubits)"
      ],
      "metadata": {
        "colab": {
          "base_uri": "https://localhost:8080/"
        },
        "id": "Yz4uXFhri38j",
        "outputId": "d1a84b6e-ffd6-44ce-fb0e-d5602f523967"
      },
      "execution_count": 5,
      "outputs": [
        {
          "output_type": "stream",
          "name": "stdout",
          "text": [
            "q(0, 0)\n",
            "[cirq.GridQubit(0, 0), cirq.GridQubit(0, 1), cirq.GridQubit(0, 2), cirq.GridQubit(1, 0), cirq.GridQubit(1, 1), cirq.GridQubit(1, 2), cirq.GridQubit(2, 0), cirq.GridQubit(2, 1), cirq.GridQubit(2, 2)]\n"
          ]
        }
      ]
    },
    {
      "cell_type": "code",
      "source": [
        "x_gate = cirq.X\n",
        "x_op = x_gate(qubits[0])\n",
        "\n",
        "print(x_op)"
      ],
      "metadata": {
        "colab": {
          "base_uri": "https://localhost:8080/"
        },
        "id": "oxbl1NWvj11s",
        "outputId": "1fe62c0a-8232-47a3-b6f2-c0f307b401f0"
      },
      "execution_count": 6,
      "outputs": [
        {
          "output_type": "stream",
          "name": "stdout",
          "text": [
            "X(q(0, 0))\n"
          ]
        }
      ]
    },
    {
      "cell_type": "code",
      "source": [
        "cz = cirq.CZ(qubits[0], qubits[1])\n",
        "x = cirq.X(qubits[2])\n",
        "moment = cirq.Moment(x, cz)\n",
        "\n",
        "print(moment)"
      ],
      "metadata": {
        "colab": {
          "base_uri": "https://localhost:8080/"
        },
        "id": "YUy0NmFqkJVH",
        "outputId": "ad675402-68ea-49d3-d3ed-98d5ca38e9c5"
      },
      "execution_count": 7,
      "outputs": [
        {
          "output_type": "stream",
          "name": "stdout",
          "text": [
            "  ╷ 0 1 2\n",
            "╶─┼───────\n",
            "0 │ @─@ X\n",
            "  │\n"
          ]
        }
      ]
    },
    {
      "cell_type": "code",
      "source": [
        "cz01 = cirq.CZ(qubits[0], qubits[1])\n",
        "x2 = cirq.X(qubits[2])\n",
        "cz12 = cirq.CZ(qubits[1], qubits[2])\n",
        "moment0 = cirq.Moment([cz01, x2])\n",
        "moment1 = cirq.Moment([cz12])\n",
        "circuit = cirq.Circuit((moment0, moment1))\n",
        "\n",
        "print(circuit)"
      ],
      "metadata": {
        "colab": {
          "base_uri": "https://localhost:8080/"
        },
        "id": "Cr2cwuPdkR-B",
        "outputId": "05ec4518-832d-4ca9-ce85-3b83e498f042"
      },
      "execution_count": 8,
      "outputs": [
        {
          "output_type": "stream",
          "name": "stdout",
          "text": [
            "(0, 0): ───@───────\n",
            "           │\n",
            "(0, 1): ───@───@───\n",
            "               │\n",
            "(0, 2): ───X───@───\n"
          ]
        }
      ]
    },
    {
      "cell_type": "code",
      "source": [
        "q0, q1, q2 = [cirq.GridQubit(i, 0) for i in range(3)]\n",
        "circuit = cirq.Circuit()\n",
        "circuit.append([cirq.CZ(q0, q1), cirq.H(q2)])\n",
        "\n",
        "print(circuit)"
      ],
      "metadata": {
        "colab": {
          "base_uri": "https://localhost:8080/"
        },
        "id": "UgJHYv8IkZ2b",
        "outputId": "82d09082-6be3-4794-a148-9bf8dd56cb85"
      },
      "execution_count": 9,
      "outputs": [
        {
          "output_type": "stream",
          "name": "stdout",
          "text": [
            "(0, 0): ───@───\n",
            "           │\n",
            "(1, 0): ───@───\n",
            "\n",
            "(2, 0): ───H───\n"
          ]
        }
      ]
    },
    {
      "cell_type": "code",
      "source": [
        "circuit.append([cirq.H(q0), cirq.CZ(q1, q2)])\n",
        "\n",
        "print(circuit)"
      ],
      "metadata": {
        "colab": {
          "base_uri": "https://localhost:8080/"
        },
        "id": "Z7aw-1-kkiXG",
        "outputId": "521f25d7-c2fd-4f44-ed43-31c0d6dcc515"
      },
      "execution_count": 10,
      "outputs": [
        {
          "output_type": "stream",
          "name": "stdout",
          "text": [
            "(0, 0): ───@───H───\n",
            "           │\n",
            "(1, 0): ───@───@───\n",
            "               │\n",
            "(2, 0): ───H───@───\n"
          ]
        }
      ]
    },
    {
      "cell_type": "code",
      "source": [
        "circuit = cirq.Circuit()\n",
        "circuit.append([cirq.CZ(q0, q1), cirq.H(q2), cirq.H(q0), cirq.CZ(q1, q2)])\n",
        "\n",
        "print(circuit)"
      ],
      "metadata": {
        "colab": {
          "base_uri": "https://localhost:8080/"
        },
        "id": "kdZDsYnIknM2",
        "outputId": "22c1d161-43a1-4f8c-8a3d-454f75f33920"
      },
      "execution_count": 11,
      "outputs": [
        {
          "output_type": "stream",
          "name": "stdout",
          "text": [
            "(0, 0): ───@───H───\n",
            "           │\n",
            "(1, 0): ───@───@───\n",
            "               │\n",
            "(2, 0): ───H───@───\n"
          ]
        }
      ]
    },
    {
      "cell_type": "code",
      "source": [
        "from cirq.circuits import InsertStrategy\n",
        "\n",
        "circuit = cirq.Circuit()\n",
        "circuit.append([cirq.CZ(q0, q1)])\n",
        "circuit.append([cirq.H(q0), cirq.H(q2)], strategy=InsertStrategy.EARLIEST)\n",
        "\n",
        "print(circuit)"
      ],
      "metadata": {
        "colab": {
          "base_uri": "https://localhost:8080/"
        },
        "id": "WECNZtByk05c",
        "outputId": "de5c2526-b7ed-44f0-b0a8-8e796e6ae52a"
      },
      "execution_count": 12,
      "outputs": [
        {
          "output_type": "stream",
          "name": "stdout",
          "text": [
            "(0, 0): ───@───H───\n",
            "           │\n",
            "(1, 0): ───@───────\n",
            "\n",
            "(2, 0): ───H───────\n"
          ]
        }
      ]
    },
    {
      "cell_type": "code",
      "source": [
        "circuit = cirq.Circuit()\n",
        "circuit.append([cirq.H(q0), cirq.H(q1), cirq.H(q2)], strategy=InsertStrategy.NEW)\n",
        "\n",
        "print(circuit)"
      ],
      "metadata": {
        "colab": {
          "base_uri": "https://localhost:8080/"
        },
        "id": "evCHzUqHk4uZ",
        "outputId": "3c1c7c82-9e7f-4d30-9acb-9205937bb345"
      },
      "execution_count": 13,
      "outputs": [
        {
          "output_type": "stream",
          "name": "stdout",
          "text": [
            "(0, 0): ───H───────────\n",
            "\n",
            "(1, 0): ───────H───────\n",
            "\n",
            "(2, 0): ───────────H───\n"
          ]
        }
      ]
    },
    {
      "cell_type": "code",
      "source": [
        "circuit = cirq.Circuit()\n",
        "circuit.append([cirq.CZ(q1, q2)])\n",
        "circuit.append([cirq.CZ(q1, q2)])\n",
        "circuit.append([cirq.H(q0), cirq.H(q1), cirq.H(q2)], strategy=InsertStrategy.INLINE)\n",
        "\n",
        "print(circuit)"
      ],
      "metadata": {
        "colab": {
          "base_uri": "https://localhost:8080/"
        },
        "id": "_UQY6tdDlBaT",
        "outputId": "94dea036-38bd-40d4-fe0b-6a7822b35383"
      },
      "execution_count": 14,
      "outputs": [
        {
          "output_type": "stream",
          "name": "stdout",
          "text": [
            "(0, 0): ───────H───────\n",
            "\n",
            "(1, 0): ───@───@───H───\n",
            "           │   │\n",
            "(2, 0): ───@───@───H───\n"
          ]
        }
      ]
    },
    {
      "cell_type": "code",
      "source": [
        "circuit = cirq.Circuit()\n",
        "circuit.append([cirq.H(q0)])\n",
        "circuit.append([cirq.CZ(q1, q2), cirq.H(q0)], strategy=InsertStrategy.NEW_THEN_INLINE)\n",
        "\n",
        "print(circuit)"
      ],
      "metadata": {
        "colab": {
          "base_uri": "https://localhost:8080/"
        },
        "id": "hVTS0yd7lQLE",
        "outputId": "aca4a483-4a49-4329-ced3-ff9d09a4f916"
      },
      "execution_count": 15,
      "outputs": [
        {
          "output_type": "stream",
          "name": "stdout",
          "text": [
            "(0, 0): ───H───H───\n",
            "\n",
            "(1, 0): ───────@───\n",
            "               │\n",
            "(2, 0): ───────@───\n"
          ]
        }
      ]
    },
    {
      "cell_type": "code",
      "source": [
        "def my_layer():\n",
        "    yield cirq.CZ(q0, q1)\n",
        "    yield [cirq.H(q) for q in (q0, q1, q2)]\n",
        "    yield [cirq.CZ(q1, q2)]\n",
        "    yield [cirq.H(q0), [cirq.CZ(q1, q2)]]\n",
        "\n",
        "\n",
        "circuit = cirq.Circuit()\n",
        "circuit.append(my_layer())\n",
        "\n",
        "for x in my_layer():\n",
        "    print(x)\n",
        "\n",
        "print(circuit)"
      ],
      "metadata": {
        "colab": {
          "base_uri": "https://localhost:8080/"
        },
        "id": "wVFqUEb2lUAp",
        "outputId": "5efef70b-d9e2-4c81-fd6f-44d6c2b86093"
      },
      "execution_count": 17,
      "outputs": [
        {
          "output_type": "stream",
          "name": "stdout",
          "text": [
            "CZ(q(0, 0), q(1, 0))\n",
            "[cirq.H(cirq.GridQubit(0, 0)), cirq.H(cirq.GridQubit(1, 0)), cirq.H(cirq.GridQubit(2, 0))]\n",
            "[cirq.CZ(cirq.GridQubit(1, 0), cirq.GridQubit(2, 0))]\n",
            "[cirq.H(cirq.GridQubit(0, 0)), [cirq.CZ(cirq.GridQubit(1, 0), cirq.GridQubit(2, 0))]]\n",
            "(0, 0): ───@───H───H───────\n",
            "           │\n",
            "(1, 0): ───@───H───@───@───\n",
            "                   │   │\n",
            "(2, 0): ───H───────@───@───\n"
          ]
        }
      ]
    },
    {
      "cell_type": "code",
      "source": [],
      "metadata": {
        "id": "B8ea2RkDlqZN"
      },
      "execution_count": null,
      "outputs": []
    }
  ]
}