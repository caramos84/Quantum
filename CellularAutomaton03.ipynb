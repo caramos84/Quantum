{
  "nbformat": 4,
  "nbformat_minor": 0,
  "metadata": {
    "colab": {
      "provenance": [],
      "authorship_tag": "ABX9TyOUYF8bkafyf6SpXkypzQPZ",
      "include_colab_link": true
    },
    "kernelspec": {
      "name": "python3",
      "display_name": "Python 3"
    },
    "language_info": {
      "name": "python"
    }
  },
  "cells": [
    {
      "cell_type": "markdown",
      "metadata": {
        "id": "view-in-github",
        "colab_type": "text"
      },
      "source": [
        "<a href=\"https://colab.research.google.com/github/caramos84/Quantum/blob/main/CellularAutomaton03.ipynb\" target=\"_parent\"><img src=\"https://colab.research.google.com/assets/colab-badge.svg\" alt=\"Open In Colab\"/></a>"
      ]
    },
    {
      "cell_type": "code",
      "execution_count": 18,
      "metadata": {
        "colab": {
          "base_uri": "https://localhost:8080/",
          "height": 430
        },
        "id": "JkmaL-U5dZBE",
        "outputId": "acb93a81-6d0c-457a-8f7a-153b089f0b5d"
      },
      "outputs": [
        {
          "output_type": "display_data",
          "data": {
            "text/plain": [
              "<Figure size 640x480 with 1 Axes>"
            ],
            "image/png": "[encoded data removed]"
          },
          "metadata": {}
        }
      ],
      "source": [
        "import numpy as np\n",
        "import matplotlib.pyplot as plt\n",
        "import matplotlib.animation as animation\n",
        "\n",
        "def initialize_grid(size=20, random_fill=True):\n",
        "    if random_fill:\n",
        "        return np.random.choice([0, 1], size=(size, size), p=[0.7, 0.3])  # 30% de células vivas\n",
        "    else:\n",
        "        return np.zeros((size, size), dtype=int)\n",
        "\n",
        "def update(grid):\n",
        "    size = grid.shape[0]\n",
        "    new_grid = grid.copy()\n",
        "\n",
        "    for i in range(size):\n",
        "        for j in range(size):\n",
        "            # Contar vecinos vivos\n",
        "            neighbors = np.sum(grid[max(0, i-1):min(size, i+2), max(0, j-1):min(size, j+2)]) - grid[i, j]\n",
        "\n",
        "            # Aplicar reglas del juego de la vida\n",
        "            if grid[i, j] == 1:\n",
        "                if neighbors < 2 or neighbors > 3:\n",
        "                    new_grid[i, j] = 0  # Muerte por soledad o sobrepoblación\n",
        "            else:\n",
        "                if neighbors == 3:\n",
        "                    new_grid[i, j] = 1  # Nacimiento\n",
        "\n",
        "    return new_grid\n",
        "\n",
        "def animate(i, grid, img):\n",
        "    new_grid = update(grid)\n",
        "    img.set_data(new_grid)\n",
        "    grid[:] = new_grid[:]\n",
        "    return img,\n",
        "\n",
        "def run_game_of_life(size=20, steps=50):\n",
        "    grid = initialize_grid(size)\n",
        "\n",
        "    fig, ax = plt.subplots()\n",
        "    img = ax.imshow(grid, cmap='gray')\n",
        "    ani = animation.FuncAnimation(fig, animate, fargs=(grid, img), frames=steps, interval=200, blit=False)\n",
        "    plt.show()\n",
        "\n",
        "# Ejecutar el juego\n",
        "# Changed 'un_game_of_life' to 'run_game_of_life'\n",
        "run_game_of_life(size=30, steps=100)"
      ]
    }
  ]
}